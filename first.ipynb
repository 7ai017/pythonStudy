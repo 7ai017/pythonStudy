{
 "cells": [
  {
   "cell_type": "markdown",
   "id": "c2824f24",
   "metadata": {},
   "source": [
    "# 2025-04-10\n",
    "\n",
    "Python 기본 문법 수업 시간 입니다."
   ]
  },
  {
   "cell_type": "code",
   "execution_count": 9,
   "id": "20a9e5bc",
   "metadata": {},
   "outputs": [
    {
     "name": "stdout",
     "output_type": "stream",
     "text": [
      "Greeting\n"
     ]
    }
   ],
   "source": [
    "print(\"Greeting\")"
   ]
  },
  {
   "cell_type": "code",
   "execution_count": 10,
   "id": "ac45ebc2",
   "metadata": {},
   "outputs": [
    {
     "data": {
      "text/plain": [
       "'코드의 마지막줄은 print문이 없어도 마지막 한줄은 출력합니다.'"
      ]
     },
     "execution_count": 10,
     "metadata": {},
     "output_type": "execute_result"
    }
   ],
   "source": [
    "\"코드의 마지막줄은 print문이 없어도 마지막 한줄은 출력합니다.\""
   ]
  },
  {
   "cell_type": "markdown",
   "id": "1cdf48b3",
   "metadata": {},
   "source": [
    "각 변수 타입들 소개해주심."
   ]
  },
  {
   "cell_type": "code",
   "execution_count": 11,
   "id": "0eb7145e",
   "metadata": {},
   "outputs": [
    {
     "name": "stdout",
     "output_type": "stream",
     "text": [
      "10\n"
     ]
    }
   ],
   "source": [
    "print(10) #숫자"
   ]
  },
  {
   "cell_type": "code",
   "execution_count": 12,
   "id": "09a1549e",
   "metadata": {},
   "outputs": [
    {
     "name": "stdout",
     "output_type": "stream",
     "text": [
      "10 + 20\n"
     ]
    }
   ],
   "source": [
    "print('10 + 20') #문자"
   ]
  },
  {
   "cell_type": "markdown",
   "id": "75ac1509",
   "metadata": {},
   "source": [
    "type 함수 소개해주심."
   ]
  },
  {
   "cell_type": "code",
   "execution_count": 13,
   "id": "9ffa6e45",
   "metadata": {},
   "outputs": [
    {
     "data": {
      "text/plain": [
       "str"
      ]
     },
     "execution_count": 13,
     "metadata": {},
     "output_type": "execute_result"
    }
   ],
   "source": [
    "type(1) \n",
    "\n",
    "type('str') \n"
   ]
  },
  {
   "cell_type": "code",
   "execution_count": 14,
   "id": "46aa90d8",
   "metadata": {},
   "outputs": [
    {
     "data": {
      "text/plain": [
       "str"
      ]
     },
     "execution_count": 14,
     "metadata": {},
     "output_type": "execute_result"
    }
   ],
   "source": [
    "str_a = 'a'\n",
    "type(str_a)"
   ]
  },
  {
   "cell_type": "code",
   "execution_count": 15,
   "id": "72d3844f",
   "metadata": {},
   "outputs": [
    {
     "data": {
      "text/plain": [
       "int"
      ]
     },
     "execution_count": 15,
     "metadata": {},
     "output_type": "execute_result"
    }
   ],
   "source": [
    "int_i = 1\n",
    "type(int_i)"
   ]
  },
  {
   "cell_type": "code",
   "execution_count": 16,
   "id": "c6196f88",
   "metadata": {},
   "outputs": [
    {
     "data": {
      "text/plain": [
       "bool"
      ]
     },
     "execution_count": 16,
     "metadata": {},
     "output_type": "execute_result"
    }
   ],
   "source": [
    "boolean_is_true = True\n",
    "type(boolean_is_true)"
   ]
  },
  {
   "cell_type": "markdown",
   "id": "04ad3de6",
   "metadata": {},
   "source": [
    "덧셈, 뺄셈, 곱셉, 나눗셈 해보라고 하심."
   ]
  },
  {
   "cell_type": "code",
   "execution_count": 17,
   "id": "e7866ff2",
   "metadata": {},
   "outputs": [],
   "source": [
    "num1 = 3\n",
    "num2 = 4"
   ]
  },
  {
   "cell_type": "code",
   "execution_count": 18,
   "id": "dace36a9",
   "metadata": {},
   "outputs": [
    {
     "data": {
      "text/plain": [
       "7"
      ]
     },
     "execution_count": 18,
     "metadata": {},
     "output_type": "execute_result"
    }
   ],
   "source": [
    "num1 + num2"
   ]
  },
  {
   "cell_type": "code",
   "execution_count": 19,
   "id": "7625bd30",
   "metadata": {},
   "outputs": [
    {
     "data": {
      "text/plain": [
       "-1"
      ]
     },
     "execution_count": 19,
     "metadata": {},
     "output_type": "execute_result"
    }
   ],
   "source": [
    "num1 - num2"
   ]
  },
  {
   "cell_type": "code",
   "execution_count": 20,
   "id": "40290996",
   "metadata": {},
   "outputs": [
    {
     "data": {
      "text/plain": [
       "0.75"
      ]
     },
     "execution_count": 20,
     "metadata": {},
     "output_type": "execute_result"
    }
   ],
   "source": [
    "num1 / num2"
   ]
  },
  {
   "cell_type": "code",
   "execution_count": 21,
   "id": "749a71c2",
   "metadata": {},
   "outputs": [
    {
     "data": {
      "text/plain": [
       "12"
      ]
     },
     "execution_count": 21,
     "metadata": {},
     "output_type": "execute_result"
    }
   ],
   "source": [
    "num1 * num2"
   ]
  },
  {
   "cell_type": "markdown",
   "id": "871f5614",
   "metadata": {},
   "source": [
    "input 함수 사용"
   ]
  },
  {
   "cell_type": "code",
   "execution_count": 23,
   "id": "eb88f258",
   "metadata": {},
   "outputs": [
    {
     "name": "stdout",
     "output_type": "stream",
     "text": [
      "ㄴㄴㄴ 안녕하세요.\n"
     ]
    }
   ],
   "source": [
    "name = input(\"이름을 입력하세요.\")\n",
    "print(name, \"안녕하세요.\")"
   ]
  },
  {
   "cell_type": "markdown",
   "id": "a3dfb030",
   "metadata": {},
   "source": [
    "사용자로부터 두개의 정수를 입력받아서  합, 차 , 곱, 나눗셈 연산의 결과를 출력하세요."
   ]
  },
  {
   "cell_type": "code",
   "execution_count": null,
   "id": "0e1a9a2e",
   "metadata": {},
   "outputs": [],
   "source": [
    "num_i =int(input(\"첫번째 숫자를 입력하세요\"))\n",
    "num_j = int(input(\"두번째 숫자를 입력하세요\"))"
   ]
  },
  {
   "cell_type": "code",
   "execution_count": 35,
   "id": "c2b9f97c",
   "metadata": {},
   "outputs": [
    {
     "data": {
      "text/plain": [
       "3"
      ]
     },
     "execution_count": 35,
     "metadata": {},
     "output_type": "execute_result"
    }
   ],
   "source": [
    "num_i + num_j"
   ]
  },
  {
   "cell_type": "code",
   "execution_count": 36,
   "id": "8e5ae8c4",
   "metadata": {},
   "outputs": [
    {
     "data": {
      "text/plain": [
       "-1"
      ]
     },
     "execution_count": 36,
     "metadata": {},
     "output_type": "execute_result"
    }
   ],
   "source": [
    "num_i - num_j"
   ]
  },
  {
   "cell_type": "code",
   "execution_count": 37,
   "id": "88fb9098",
   "metadata": {},
   "outputs": [
    {
     "data": {
      "text/plain": [
       "2"
      ]
     },
     "execution_count": 37,
     "metadata": {},
     "output_type": "execute_result"
    }
   ],
   "source": [
    "num_i * num_j"
   ]
  },
  {
   "cell_type": "code",
   "execution_count": 38,
   "id": "50f36902",
   "metadata": {},
   "outputs": [
    {
     "data": {
      "text/plain": [
       "0.5"
      ]
     },
     "execution_count": 38,
     "metadata": {},
     "output_type": "execute_result"
    }
   ],
   "source": [
    "num_i / num_j"
   ]
  },
  {
   "cell_type": "markdown",
   "id": "a16ec817",
   "metadata": {},
   "source": [
    "삼각형의 넓이 구하기\n",
    "사용자에게 삼각형의 밑변과 높이를 입력받아 삼각형의 넓이를 출력하는 코드를 작성하세요."
   ]
  },
  {
   "cell_type": "code",
   "execution_count": 39,
   "id": "81e88e26",
   "metadata": {},
   "outputs": [],
   "source": [
    "the_base_of_triangle = int(input(\"삼각형의 밑변을 입력하세요\"))\n",
    "altitude_of_triangle = int(input(\"삼각형의 높이를 입력하세요\"))"
   ]
  },
  {
   "cell_type": "code",
   "execution_count": null,
   "id": "a1502e37",
   "metadata": {},
   "outputs": [
    {
     "name": "stdout",
     "output_type": "stream",
     "text": [
      "삼각형의 넓이 1.0\n"
     ]
    }
   ],
   "source": [
    "result = (the_base_of_triangle * altitude_of_triangle) / 2\n",
    "print('삼각형의 넓이 :', result)"
   ]
  },
  {
   "cell_type": "markdown",
   "id": "97fdbbae",
   "metadata": {},
   "source": []
  }
 ],
 "metadata": {
  "kernelspec": {
   "display_name": "Python 3",
   "language": "python",
   "name": "python3"
  },
  "language_info": {
   "codemirror_mode": {
    "name": "ipython",
    "version": 3
   },
   "file_extension": ".py",
   "mimetype": "text/x-python",
   "name": "python",
   "nbconvert_exporter": "python",
   "pygments_lexer": "ipython3",
   "version": "3.11.9"
  }
 },
 "nbformat": 4,
 "nbformat_minor": 5
}
