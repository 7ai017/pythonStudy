{
 "cells": [
  {
   "cell_type": "markdown",
   "id": "c2824f24",
   "metadata": {},
   "source": [
    "# 2025-04-10\n",
    "\n",
    "Python 기본 문법 수업 시간 입니다."
   ]
  },
  {
   "cell_type": "code",
   "execution_count": 350,
   "id": "20a9e5bc",
   "metadata": {},
   "outputs": [
    {
     "name": "stdout",
     "output_type": "stream",
     "text": [
      "Greeting\n"
     ]
    }
   ],
   "source": [
    "print(\"Greeting\")"
   ]
  },
  {
   "cell_type": "code",
   "execution_count": 351,
   "id": "ac45ebc2",
   "metadata": {},
   "outputs": [
    {
     "data": {
      "text/plain": [
       "'코드의 마지막줄은 print문이 없어도 마지막 한줄은 출력합니다.'"
      ]
     },
     "execution_count": 351,
     "metadata": {},
     "output_type": "execute_result"
    }
   ],
   "source": [
    "\"코드의 마지막줄은 print문이 없어도 마지막 한줄은 출력합니다.\""
   ]
  },
  {
   "cell_type": "markdown",
   "id": "1cdf48b3",
   "metadata": {},
   "source": [
    "각 변수 타입들 소개해주심."
   ]
  },
  {
   "cell_type": "code",
   "execution_count": 352,
   "id": "0eb7145e",
   "metadata": {},
   "outputs": [
    {
     "name": "stdout",
     "output_type": "stream",
     "text": [
      "10\n"
     ]
    }
   ],
   "source": [
    "print(10) #숫자"
   ]
  },
  {
   "cell_type": "code",
   "execution_count": 353,
   "id": "09a1549e",
   "metadata": {},
   "outputs": [
    {
     "name": "stdout",
     "output_type": "stream",
     "text": [
      "10 + 20\n"
     ]
    }
   ],
   "source": [
    "print('10 + 20') #문자"
   ]
  },
  {
   "cell_type": "markdown",
   "id": "75ac1509",
   "metadata": {},
   "source": [
    "type 함수 소개해주심."
   ]
  },
  {
   "cell_type": "code",
   "execution_count": 354,
   "id": "9ffa6e45",
   "metadata": {},
   "outputs": [
    {
     "data": {
      "text/plain": [
       "str"
      ]
     },
     "execution_count": 354,
     "metadata": {},
     "output_type": "execute_result"
    }
   ],
   "source": [
    "type(1) \n",
    "\n",
    "type('str') \n"
   ]
  },
  {
   "cell_type": "code",
   "execution_count": 355,
   "id": "46aa90d8",
   "metadata": {},
   "outputs": [
    {
     "data": {
      "text/plain": [
       "str"
      ]
     },
     "execution_count": 355,
     "metadata": {},
     "output_type": "execute_result"
    }
   ],
   "source": [
    "str_a = 'a'\n",
    "type(str_a)"
   ]
  },
  {
   "cell_type": "code",
   "execution_count": 356,
   "id": "72d3844f",
   "metadata": {},
   "outputs": [
    {
     "data": {
      "text/plain": [
       "int"
      ]
     },
     "execution_count": 356,
     "metadata": {},
     "output_type": "execute_result"
    }
   ],
   "source": [
    "int_i = 1\n",
    "type(int_i)"
   ]
  },
  {
   "cell_type": "code",
   "execution_count": 357,
   "id": "c6196f88",
   "metadata": {},
   "outputs": [
    {
     "data": {
      "text/plain": [
       "bool"
      ]
     },
     "execution_count": 357,
     "metadata": {},
     "output_type": "execute_result"
    }
   ],
   "source": [
    "boolean_is_true = True\n",
    "type(boolean_is_true)"
   ]
  },
  {
   "cell_type": "markdown",
   "id": "04ad3de6",
   "metadata": {},
   "source": [
    "덧셈, 뺄셈, 곱셉, 나눗셈 해보라고 하심."
   ]
  },
  {
   "cell_type": "code",
   "execution_count": 358,
   "id": "e7866ff2",
   "metadata": {},
   "outputs": [],
   "source": [
    "num1 = 3\n",
    "num2 = 4"
   ]
  },
  {
   "cell_type": "code",
   "execution_count": 359,
   "id": "dace36a9",
   "metadata": {},
   "outputs": [
    {
     "data": {
      "text/plain": [
       "7"
      ]
     },
     "execution_count": 359,
     "metadata": {},
     "output_type": "execute_result"
    }
   ],
   "source": [
    "num1 + num2"
   ]
  },
  {
   "cell_type": "code",
   "execution_count": 360,
   "id": "7625bd30",
   "metadata": {},
   "outputs": [
    {
     "data": {
      "text/plain": [
       "-1"
      ]
     },
     "execution_count": 360,
     "metadata": {},
     "output_type": "execute_result"
    }
   ],
   "source": [
    "num1 - num2"
   ]
  },
  {
   "cell_type": "code",
   "execution_count": 361,
   "id": "40290996",
   "metadata": {},
   "outputs": [
    {
     "data": {
      "text/plain": [
       "0.75"
      ]
     },
     "execution_count": 361,
     "metadata": {},
     "output_type": "execute_result"
    }
   ],
   "source": [
    "num1 / num2"
   ]
  },
  {
   "cell_type": "code",
   "execution_count": 362,
   "id": "749a71c2",
   "metadata": {},
   "outputs": [
    {
     "data": {
      "text/plain": [
       "12"
      ]
     },
     "execution_count": 362,
     "metadata": {},
     "output_type": "execute_result"
    }
   ],
   "source": [
    "num1 * num2"
   ]
  },
  {
   "cell_type": "markdown",
   "id": "871f5614",
   "metadata": {},
   "source": [
    "input 함수 사용"
   ]
  },
  {
   "cell_type": "code",
   "execution_count": 363,
   "id": "eb88f258",
   "metadata": {},
   "outputs": [
    {
     "name": "stdout",
     "output_type": "stream",
     "text": [
      "미키 안녕하세요.\n"
     ]
    }
   ],
   "source": [
    "name = input(\"이름을 입력하세요.\")\n",
    "print(name, \"안녕하세요.\")"
   ]
  },
  {
   "cell_type": "markdown",
   "id": "a3dfb030",
   "metadata": {},
   "source": [
    "사용자로부터 두개의 정수를 입력받아서  합, 차 , 곱, 나눗셈 연산의 결과를 출력하세요."
   ]
  },
  {
   "cell_type": "code",
   "execution_count": 364,
   "id": "0e1a9a2e",
   "metadata": {},
   "outputs": [],
   "source": [
    "num_i =int(input(\"첫번째 숫자를 입력하세요\"))\n",
    "num_j = int(input(\"두번째 숫자를 입력하세요\"))"
   ]
  },
  {
   "cell_type": "code",
   "execution_count": 365,
   "id": "c2b9f97c",
   "metadata": {},
   "outputs": [
    {
     "data": {
      "text/plain": [
       "2"
      ]
     },
     "execution_count": 365,
     "metadata": {},
     "output_type": "execute_result"
    }
   ],
   "source": [
    "num_i + num_j"
   ]
  },
  {
   "cell_type": "code",
   "execution_count": 366,
   "id": "8e5ae8c4",
   "metadata": {},
   "outputs": [
    {
     "data": {
      "text/plain": [
       "0"
      ]
     },
     "execution_count": 366,
     "metadata": {},
     "output_type": "execute_result"
    }
   ],
   "source": [
    "num_i - num_j"
   ]
  },
  {
   "cell_type": "code",
   "execution_count": 367,
   "id": "88fb9098",
   "metadata": {},
   "outputs": [
    {
     "data": {
      "text/plain": [
       "1"
      ]
     },
     "execution_count": 367,
     "metadata": {},
     "output_type": "execute_result"
    }
   ],
   "source": [
    "num_i * num_j"
   ]
  },
  {
   "cell_type": "code",
   "execution_count": 368,
   "id": "50f36902",
   "metadata": {},
   "outputs": [
    {
     "data": {
      "text/plain": [
       "1.0"
      ]
     },
     "execution_count": 368,
     "metadata": {},
     "output_type": "execute_result"
    }
   ],
   "source": [
    "num_i / num_j"
   ]
  },
  {
   "cell_type": "markdown",
   "id": "a16ec817",
   "metadata": {},
   "source": [
    "삼각형의 넓이 구하기\n",
    "사용자에게 삼각형의 밑변과 높이를 입력받아 삼각형의 넓이를 출력하는 코드를 작성하세요."
   ]
  },
  {
   "cell_type": "code",
   "execution_count": 369,
   "id": "81e88e26",
   "metadata": {},
   "outputs": [],
   "source": [
    "the_base_of_triangle = int(input(\"삼각형의 밑변을 입력하세요\"))\n",
    "altitude_of_triangle = int(input(\"삼각형의 높이를 입력하세요\"))"
   ]
  },
  {
   "cell_type": "code",
   "execution_count": 370,
   "id": "a1502e37",
   "metadata": {},
   "outputs": [
    {
     "name": "stdout",
     "output_type": "stream",
     "text": [
      "삼각형의 넓이 : 0.5\n"
     ]
    }
   ],
   "source": [
    "result = (the_base_of_triangle * altitude_of_triangle) / 2\n",
    "print('삼각형의 넓이 :', result)"
   ]
  },
  {
   "cell_type": "markdown",
   "id": "c369ff17",
   "metadata": {},
   "source": [
    "print 포맷\n",
    "\n",
    "%s 문자\n",
    "%d 숫자\n",
    "%c 문자 1자 \n",
    "%f 부동 소수\n",
    "%o 8진수 \n",
    "%x 16진수\n",
    "%% %"
   ]
  },
  {
   "cell_type": "markdown",
   "id": "af23ccdf",
   "metadata": {},
   "source": [
    "'%자료형' %(값)"
   ]
  },
  {
   "cell_type": "code",
   "execution_count": 371,
   "id": "35b00989",
   "metadata": {},
   "outputs": [
    {
     "name": "stdout",
     "output_type": "stream",
     "text": [
      "가\n"
     ]
    }
   ],
   "source": [
    "print('%s' %('가'))"
   ]
  },
  {
   "cell_type": "markdown",
   "id": "0b405715",
   "metadata": {},
   "source": [
    "f'{값:서식지정자}'"
   ]
  },
  {
   "cell_type": "code",
   "execution_count": 372,
   "id": "ec173a5b",
   "metadata": {},
   "outputs": [
    {
     "name": "stdout",
     "output_type": "stream",
     "text": [
      "1.00 * 1.00 = 1.00\n"
     ]
    }
   ],
   "source": [
    "a = float(input('첫번째 값 입력'))\n",
    "b = float(input('두번째 값 입력력'))\n",
    "print(f'{a :.2f} * {b :.2f} = {a*b:.2f}')"
   ]
  },
  {
   "cell_type": "markdown",
   "id": "36fff9f7",
   "metadata": {},
   "source": [
    "반지름을 입력 받아, 원의 둘레 와 넓이 계산해보세요."
   ]
  },
  {
   "cell_type": "code",
   "execution_count": 373,
   "id": "6b0698c7",
   "metadata": {},
   "outputs": [],
   "source": [
    "radius = float(input(\"반지름 입력(cm)\"))"
   ]
  },
  {
   "cell_type": "code",
   "execution_count": 374,
   "id": "4a708101",
   "metadata": {},
   "outputs": [
    {
     "name": "stdout",
     "output_type": "stream",
     "text": [
      "원의 둘레는 : 6.28 cm\n"
     ]
    }
   ],
   "source": [
    "circumference = 2 *  3.14 * radius\n",
    "print(f'원의 둘레는 : {circumference:.2f}', 'cm')\n"
   ]
  },
  {
   "cell_type": "code",
   "execution_count": 375,
   "id": "6392fa9a",
   "metadata": {},
   "outputs": [
    {
     "name": "stdout",
     "output_type": "stream",
     "text": [
      "원의 넓이는 : 6.28 square meter\n"
     ]
    }
   ],
   "source": [
    "area_of_a_circle = 2 * 3.14 * radius ** 2\n",
    "print(f'원의 넓이는 : {area_of_a_circle:.2f}', 'square meter')"
   ]
  },
  {
   "cell_type": "markdown",
   "id": "c785dd1c",
   "metadata": {},
   "source": [
    "숫자를 입력받아 홀수를 출력하세요."
   ]
  },
  {
   "cell_type": "code",
   "execution_count": 376,
   "id": "a1c2623e",
   "metadata": {},
   "outputs": [],
   "source": [
    "number = int(input(\"정수를 입력하세요\"))"
   ]
  },
  {
   "cell_type": "code",
   "execution_count": 377,
   "id": "f0a9d3a4",
   "metadata": {},
   "outputs": [
    {
     "name": "stdout",
     "output_type": "stream",
     "text": [
      "홀수\n"
     ]
    }
   ],
   "source": [
    "# 2로 나누어서 나머지가 0이면 짝수  = 결과값이 0 이면 짝수 = 결과값이 boolean 형으로 FALSE 이면 짝수\n",
    "if bool(number % 2) :\n",
    "   print('홀수')\n",
    "else :\n",
    "   print('짝수')"
   ]
  },
  {
   "cell_type": "code",
   "execution_count": 378,
   "id": "a66cdc48",
   "metadata": {},
   "outputs": [
    {
     "name": "stdout",
     "output_type": "stream",
     "text": [
      "짝수\n"
     ]
    }
   ],
   "source": [
    "if not False :\n",
    "    print('짝수')"
   ]
  },
  {
   "cell_type": "code",
   "execution_count": 379,
   "id": "814c9434",
   "metadata": {},
   "outputs": [],
   "source": [
    "if not bool(number % 2) :\n",
    "   print('짝수')"
   ]
  },
  {
   "cell_type": "code",
   "execution_count": 380,
   "id": "dded26a5",
   "metadata": {},
   "outputs": [
    {
     "name": "stdout",
     "output_type": "stream",
     "text": [
      "A\n"
     ]
    }
   ],
   "source": [
    "score = 100\n",
    "\n",
    "if score >= 90 :\n",
    "    print('A')\n",
    "elif 90 > score >= 80 :\n",
    "    print('B')\n",
    "elif 80 > score >= 70 :\n",
    "    print('C')\n",
    "elif 70 > score >= 60 :\n",
    "    print('D')\n",
    "else :\n",
    "    print('F')\n"
   ]
  },
  {
   "cell_type": "code",
   "execution_count": 381,
   "id": "eae033a3",
   "metadata": {},
   "outputs": [],
   "source": [
    "day = int(input(\"오늘은 몇일인가요요?\"))"
   ]
  },
  {
   "cell_type": "code",
   "execution_count": 382,
   "id": "53e0d88a",
   "metadata": {},
   "outputs": [
    {
     "name": "stdout",
     "output_type": "stream",
     "text": [
      "오늘은 10\n"
     ]
    }
   ],
   "source": [
    "if 1 <= day <= 31 :\n",
    "    print(f\"오늘은\", day)\n",
    "else : \n",
    "    print(\"입력 오류 입니다.\")"
   ]
  },
  {
   "cell_type": "code",
   "execution_count": 383,
   "id": "34ff6f9d",
   "metadata": {},
   "outputs": [
    {
     "name": "stdout",
     "output_type": "stream",
     "text": [
      "차량 번호 입력 오류입니다.\n"
     ]
    }
   ],
   "source": [
    "car_number = len(input(\"차량번호를 입력하세요.\"))\n",
    "if not car_number == 4 :\n",
    "    print(\"차량 번호 입력 오류입니다.\")"
   ]
  },
  {
   "cell_type": "code",
   "execution_count": 384,
   "id": "70a7f5fc",
   "metadata": {},
   "outputs": [],
   "source": [
    "def getDayBetween1And31(day) :\n",
    "    if 1 < day <= 31 :\n",
    "        return day\n",
    "    else :\n",
    "       #print(f\"입력 오류\")\n",
    "       raise Exception(\"입력 오류\")"
   ]
  },
  {
   "cell_type": "code",
   "execution_count": 394,
   "id": "a397fd18",
   "metadata": {},
   "outputs": [],
   "source": [
    "def getValidCarNumber(car_number) :\n",
    "    if not len(car_number) == 4 :\n",
    "        raise Exception(\"입력 오류\")\n",
    "    print(\"차량번호는\", car_number)\n",
    "    return car_number"
   ]
  },
  {
   "cell_type": "code",
   "execution_count": 386,
   "id": "a11ac9fd",
   "metadata": {},
   "outputs": [],
   "source": [
    "def isOddDay(day) : # 홀수날인지를 체크합니다.\n",
    "    return bool(day % 2)      "
   ]
  },
  {
   "cell_type": "code",
   "execution_count": 399,
   "id": "01f4d226",
   "metadata": {},
   "outputs": [],
   "source": [
    "def isOddCarNumberEnd(number) :\n",
    "    if type(number) == str:\n",
    "        number = int(number)\n",
    "    return bool(number % 2)"
   ]
  },
  {
   "cell_type": "code",
   "execution_count": 402,
   "id": "c0362ad8",
   "metadata": {},
   "outputs": [],
   "source": [
    "def get_car_number_end(car_number) :\n",
    "    car_number_end = car_number[-1]\n",
    "    print(\"차량번호판의 끝자리는\", car_number_end)\n",
    "    return car_number_end # car_number의 마지막값 "
   ]
  },
  {
   "cell_type": "code",
   "execution_count": null,
   "id": "af7022de",
   "metadata": {},
   "outputs": [],
   "source": [
    "def checkVoper(day, car_number):\n",
    "    car_number_end = get_car_number_end(car_number)\n",
    "    \n",
    "    if isOddDay(day) :\n",
    "        print(\"홀수 번호판의 차량만 운행할 수 있습니다\")\n",
    "        if (isOddCarNumberEnd(car_number_end)) :\n",
    "            print(\"운행이 가능\", car_number)\n",
    "    else :\n",
    "        print(\"짝수 번호판의 차량만 운행할 수 있습니다 \")\n",
    "        if (not isOddCarNumberEnd(car_number_end)) : #홀수 아니면 = 짝수\n",
    "            print(\"운행이 가능\", car_number)\n"
   ]
  },
  {
   "cell_type": "code",
   "execution_count": 390,
   "id": "c4b92486",
   "metadata": {},
   "outputs": [
    {
     "data": {
      "text/plain": [
       "'4'"
      ]
     },
     "execution_count": 390,
     "metadata": {},
     "output_type": "execute_result"
    }
   ],
   "source": [
    "car_number = input(\"차량번호를 입력하세요.\")\n",
    "\n",
    "get_car_number_end(car_number)"
   ]
  },
  {
   "cell_type": "markdown",
   "id": "e01feb17",
   "metadata": {},
   "source": [
    "차량번호를 입력받아서 차량운행제에 운행이 가능한 차랑번호 인지 확인합니다."
   ]
  },
  {
   "cell_type": "code",
   "execution_count": 403,
   "id": "3c94f279",
   "metadata": {},
   "outputs": [
    {
     "name": "stdout",
     "output_type": "stream",
     "text": [
      "오늘은 10\n",
      "차량번호는 1234\n",
      "차량번호판의 끝자리는 4\n",
      "짝수 번호판의 차량만 운행할 수 있습니다 \n",
      "운행이 가능 4\n"
     ]
    }
   ],
   "source": [
    "day = int(input(\"오늘은 몇일인가요요?\"))\n",
    "\n",
    "day = getDayBetween1And31(day)\n",
    "print(f\"오늘은\", day)\n",
    "\n",
    "car_number = input(\"차량번호를 입력하세요.\")\n",
    "\n",
    "car_number = getValidCarNumber(car_number)\n",
    "\n",
    "car_number_end = get_car_number_end(car_number)\n",
    "\n",
    "checkVoper(day, car_number_end)"
   ]
  },
  {
   "cell_type": "markdown",
   "id": "1f538182",
   "metadata": {},
   "source": [
    "사용자로부터 정수값을 입력받아 1부터 입력받은 숫자까지의 합을 구해 봅시다. "
   ]
  },
  {
   "cell_type": "code",
   "execution_count": null,
   "id": "21c38bd4",
   "metadata": {},
   "outputs": [
    {
     "name": "stdout",
     "output_type": "stream",
     "text": [
      "입력받은 숫자는 2\n",
      "i= 1\n",
      "sum = 1\n",
      "i= 2\n",
      "sum = 3\n"
     ]
    }
   ],
   "source": [
    "number = int(input(\"정수값을 입력하세요\"))\n",
    "\n",
    "sum = 0\n",
    "i = 0\n",
    "\n",
    "print('입력받은 숫자는', number)\n",
    "while i < number:\n",
    "    #++i  # 1증감 연산자 안됨.\n",
    "    i = i + 1\n",
    "    \n",
    "    print(\"i=\", i)\n",
    "    sum = sum + i \n",
    "    print(\"sum =\", sum)\n"
   ]
  }
 ],
 "metadata": {
  "kernelspec": {
   "display_name": "Python 3",
   "language": "python",
   "name": "python3"
  },
  "language_info": {
   "codemirror_mode": {
    "name": "ipython",
    "version": 3
   },
   "file_extension": ".py",
   "mimetype": "text/x-python",
   "name": "python",
   "nbconvert_exporter": "python",
   "pygments_lexer": "ipython3",
   "version": "3.11.9"
  }
 },
 "nbformat": 4,
 "nbformat_minor": 5
}
