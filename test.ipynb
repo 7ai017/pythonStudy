{
 "cells": [
  {
   "cell_type": "code",
   "execution_count": 1,
   "id": "3fe54945",
   "metadata": {},
   "outputs": [
    {
     "name": "stdout",
     "output_type": "stream",
     "text": [
      "Hello Python\n"
     ]
    }
   ],
   "source": [
    "print(\"Hello Python\")"
   ]
  },
  {
   "cell_type": "markdown",
   "id": "f70957ff",
   "metadata": {},
   "source": [
    "<h1> 2025-04-09 </h1>\n",
    "\n",
    "<h3> 파이썬 실행 환경 구성해보기</h3>\n",
    "\n",
    "<h4> python 3.11.9 설치 </h4>\n",
    "<h4> visual studio code 설치 </h4>\n",
    "<h4> python extension, jypyter extension 설치 </h4>"
   ]
  },
  {
   "cell_type": "markdown",
   "id": "b6ccc5c0",
   "metadata": {},
   "source": []
  }
 ],
 "metadata": {
  "kernelspec": {
   "display_name": "Python 3",
   "language": "python",
   "name": "python3"
  },
  "language_info": {
   "codemirror_mode": {
    "name": "ipython",
    "version": 3
   },
   "file_extension": ".py",
   "mimetype": "text/x-python",
   "name": "python",
   "nbconvert_exporter": "python",
   "pygments_lexer": "ipython3",
   "version": "3.11.9"
  }
 },
 "nbformat": 4,
 "nbformat_minor": 5
}
