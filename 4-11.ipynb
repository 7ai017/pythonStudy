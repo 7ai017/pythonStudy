{
 "cells": [
  {
   "cell_type": "markdown",
   "id": "7e917ff8",
   "metadata": {},
   "source": [
    "<h1> 4월 11일 </h1>"
   ]
  },
  {
   "cell_type": "markdown",
   "id": "637a91bb",
   "metadata": {},
   "source": [
    "<h2> 1) 나이를 입력 받아서 20살 이상이면 '성인', 아니면 '미성년자' 라는 메시지를 출력하세요 </h2>"
   ]
  },
  {
   "cell_type": "code",
   "execution_count": 2,
   "id": "89ecfc6a",
   "metadata": {},
   "outputs": [],
   "source": [
    "def isAdult(number) :\n",
    "    if number >= 20 :\n",
    "        return True\n",
    "    else :\n",
    "        return False"
   ]
  },
  {
   "cell_type": "code",
   "execution_count": null,
   "id": "793496da",
   "metadata": {},
   "outputs": [
    {
     "name": "stdout",
     "output_type": "stream",
     "text": [
      "성인\n"
     ]
    }
   ],
   "source": [
    "age = int(input(\"나이를 입력하세요\"))\n",
    "\n",
    "if (isAdult(age)) :\n",
    "    print(\"성인 입니다.\")\n",
    "else :\n",
    "    print(\"미성년자 입니다.\")"
   ]
  },
  {
   "cell_type": "markdown",
   "id": "a1c02527",
   "metadata": {},
   "source": [
    "조건부 표현식"
   ]
  },
  {
   "cell_type": "code",
   "execution_count": 6,
   "id": "5f1d9583",
   "metadata": {},
   "outputs": [
    {
     "name": "stdout",
     "output_type": "stream",
     "text": [
      "성인입니다.\n"
     ]
    }
   ],
   "source": [
    "age = int(input(\"나이를 입력하세요\"))\n",
    "\n",
    "result = '성인입니다.' if isAdult(age) else '미성년 입니다.'\n",
    "print(result)"
   ]
  },
  {
   "cell_type": "markdown",
   "id": "748d8067",
   "metadata": {},
   "source": [
    "<h2> 2) 사용자가 암호를 입력하고 프로그램에 암호가 맞는지 체크하는 프로그램. \n",
    "    -비밀번호 : python </h2>"
   ]
  },
  {
   "cell_type": "code",
   "execution_count": null,
   "id": "c6360b35",
   "metadata": {},
   "outputs": [],
   "source": [
    "def isValid(number) :\n",
    "    saved_password = \"python\"  #저장된 password를 가져와야함.\n",
    "    return number == saved_password"
   ]
  },
  {
   "cell_type": "code",
   "execution_count": 8,
   "id": "73447aeb",
   "metadata": {},
   "outputs": [
    {
     "name": "stdout",
     "output_type": "stream",
     "text": [
      "로그인 실패\n"
     ]
    }
   ],
   "source": [
    "password = int(input(\"암호를 입력하세요\"))\n",
    "\n",
    "if (isValid(password)) :\n",
    "    print(\"로그인 성공\")\n",
    "else :\n",
    "    print(\"로그인 실패\")\n"
   ]
  },
  {
   "cell_type": "code",
   "execution_count": null,
   "id": "b2627d0c",
   "metadata": {},
   "outputs": [
    {
     "name": "stdout",
     "output_type": "stream",
     "text": [
      "로그인 성공\n"
     ]
    }
   ],
   "source": [
    "password = ''\n",
    "while not isValid(password) :\n",
    "    password = input(\"비밀번호를 입력하세요.\")\n",
    "    \n",
    "\n",
    "print(\"로그인 성공\")"
   ]
  },
  {
   "cell_type": "markdown",
   "id": "13960620",
   "metadata": {},
   "source": [
    "<h2> for 반복문 </h2>"
   ]
  },
  {
   "cell_type": "markdown",
   "id": "e6ee1a01",
   "metadata": {},
   "source": []
  }
 ],
 "metadata": {
  "kernelspec": {
   "display_name": "Python 3",
   "language": "python",
   "name": "python3"
  },
  "language_info": {
   "codemirror_mode": {
    "name": "ipython",
    "version": 3
   },
   "file_extension": ".py",
   "mimetype": "text/x-python",
   "name": "python",
   "nbconvert_exporter": "python",
   "pygments_lexer": "ipython3",
   "version": "3.11.9"
  }
 },
 "nbformat": 4,
 "nbformat_minor": 5
}
