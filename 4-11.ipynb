{
 "cells": [
  {
   "cell_type": "markdown",
   "id": "7e917ff8",
   "metadata": {},
   "source": [
    "4월 11일"
   ]
  },
  {
   "cell_type": "code",
   "execution_count": 2,
   "id": "89ecfc6a",
   "metadata": {},
   "outputs": [],
   "source": [
    "def isAdult(number) :\n",
    "    if number >= 20 :\n",
    "        return True\n",
    "    else :\n",
    "        return False"
   ]
  },
  {
   "cell_type": "code",
   "execution_count": 3,
   "id": "793496da",
   "metadata": {},
   "outputs": [
    {
     "name": "stdout",
     "output_type": "stream",
     "text": [
      "성인\n"
     ]
    }
   ],
   "source": [
    "age = int(input(\"나이를 입력하세요\"))\n",
    "\n",
    "if (isAdult(age)) :\n",
    "    print(\"성인\")\n",
    "else :\n",
    "    print(\"미성년자자\")"
   ]
  }
 ],
 "metadata": {
  "kernelspec": {
   "display_name": "Python 3",
   "language": "python",
   "name": "python3"
  },
  "language_info": {
   "codemirror_mode": {
    "name": "ipython",
    "version": 3
   },
   "file_extension": ".py",
   "mimetype": "text/x-python",
   "name": "python",
   "nbconvert_exporter": "python",
   "pygments_lexer": "ipython3",
   "version": "3.11.9"
  }
 },
 "nbformat": 4,
 "nbformat_minor": 5
}
